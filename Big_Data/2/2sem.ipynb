{
  "nbformat": 4,
  "nbformat_minor": 0,
  "metadata": {
    "colab": {
      "provenance": []
    },
    "kernelspec": {
      "name": "python3",
      "display_name": "Python 3"
    },
    "language_info": {
      "name": "python"
    }
  },
  "cells": [
    {
      "cell_type": "code",
      "execution_count": 1,
      "metadata": {
        "colab": {
          "base_uri": "https://localhost:8080/"
        },
        "id": "022HaCQStO3K",
        "outputId": "8ebd8d8c-bc37-4043-8d90-5629cf3ea496"
      },
      "outputs": [
        {
          "output_type": "stream",
          "name": "stdout",
          "text": [
            "Collecting opendatasets\n",
            "  Downloading opendatasets-0.1.22-py3-none-any.whl.metadata (9.2 kB)\n",
            "Requirement already satisfied: tqdm in /usr/local/lib/python3.10/dist-packages (from opendatasets) (4.66.5)\n",
            "Requirement already satisfied: kaggle in /usr/local/lib/python3.10/dist-packages (from opendatasets) (1.6.17)\n",
            "Requirement already satisfied: click in /usr/local/lib/python3.10/dist-packages (from opendatasets) (8.1.7)\n",
            "Requirement already satisfied: six>=1.10 in /usr/local/lib/python3.10/dist-packages (from kaggle->opendatasets) (1.16.0)\n",
            "Requirement already satisfied: certifi>=2023.7.22 in /usr/local/lib/python3.10/dist-packages (from kaggle->opendatasets) (2024.8.30)\n",
            "Requirement already satisfied: python-dateutil in /usr/local/lib/python3.10/dist-packages (from kaggle->opendatasets) (2.8.2)\n",
            "Requirement already satisfied: requests in /usr/local/lib/python3.10/dist-packages (from kaggle->opendatasets) (2.32.3)\n",
            "Requirement already satisfied: python-slugify in /usr/local/lib/python3.10/dist-packages (from kaggle->opendatasets) (8.0.4)\n",
            "Requirement already satisfied: urllib3 in /usr/local/lib/python3.10/dist-packages (from kaggle->opendatasets) (2.0.7)\n",
            "Requirement already satisfied: bleach in /usr/local/lib/python3.10/dist-packages (from kaggle->opendatasets) (6.1.0)\n",
            "Requirement already satisfied: webencodings in /usr/local/lib/python3.10/dist-packages (from bleach->kaggle->opendatasets) (0.5.1)\n",
            "Requirement already satisfied: text-unidecode>=1.3 in /usr/local/lib/python3.10/dist-packages (from python-slugify->kaggle->opendatasets) (1.3)\n",
            "Requirement already satisfied: charset-normalizer<4,>=2 in /usr/local/lib/python3.10/dist-packages (from requests->kaggle->opendatasets) (3.3.2)\n",
            "Requirement already satisfied: idna<4,>=2.5 in /usr/local/lib/python3.10/dist-packages (from requests->kaggle->opendatasets) (3.8)\n",
            "Downloading opendatasets-0.1.22-py3-none-any.whl (15 kB)\n",
            "Installing collected packages: opendatasets\n",
            "Successfully installed opendatasets-0.1.22\n"
          ]
        }
      ],
      "source": [
        "!pip install opendatasets"
      ]
    },
    {
      "cell_type": "code",
      "source": [
        "import opendatasets as od\n",
        "import pandas as pd\n",
        "import time\n",
        "from pathlib import Path\n",
        "from functools import reduce\n",
        "import csv"
      ],
      "metadata": {
        "id": "5zxwT-lktU5m"
      },
      "execution_count": 14,
      "outputs": []
    },
    {
      "cell_type": "code",
      "source": [
        "dataset_path = Path('NYC_Airbnb_Open_Data', 'AB_NYC_2019.csv')\n",
        "if not dataset_path.is_file():\n",
        "    od.download('https://www.kaggle.com/datasets/dgomonov/new-york-city-airbnb-open-data')"
      ],
      "metadata": {
        "colab": {
          "base_uri": "https://localhost:8080/"
        },
        "id": "PN1Dv6pFtiAW",
        "outputId": "6a62dc12-c24b-4a3e-d81d-0b9d63a4137e"
      },
      "execution_count": 4,
      "outputs": [
        {
          "output_type": "stream",
          "name": "stdout",
          "text": [
            "Please provide your Kaggle credentials to download this dataset. Learn more: http://bit.ly/kaggle-creds\n",
            "Your Kaggle username: exptrns\n",
            "Your Kaggle Key: ··········\n",
            "Dataset URL: https://www.kaggle.com/datasets/dgomonov/new-york-city-airbnb-open-data\n",
            "Downloading new-york-city-airbnb-open-data.zip to ./new-york-city-airbnb-open-data\n"
          ]
        },
        {
          "output_type": "stream",
          "name": "stderr",
          "text": [
            "100%|██████████| 2.44M/2.44M [00:00<00:00, 112MB/s]"
          ]
        },
        {
          "output_type": "stream",
          "name": "stdout",
          "text": [
            "\n"
          ]
        },
        {
          "output_type": "stream",
          "name": "stderr",
          "text": [
            "\n"
          ]
        }
      ]
    },
    {
      "cell_type": "code",
      "source": [
        "def mapper(path):\n",
        "  with open(path, encoding='utf-8') as r_file:\n",
        "    file_reader = csv.reader(r_file, delimiter = \",\")\n",
        "    data = []\n",
        "    for row in file_reader:\n",
        "        data.append(row[9])\n",
        "    data.remove('price')\n",
        "    data = map(int,data)\n",
        "    return(data)\n",
        "\n",
        "def reducer(price_data1, price_data2):\n",
        "    prices = []\n",
        "    if type(price_data1)==int:\n",
        "        n, mean, M2 = 0, 0.0, 0\n",
        "        prices.append(price_data1)\n",
        "    else:\n",
        "        n, mean, M2 = price_data1\n",
        "    prices.append(price_data2)\n",
        "    for price in prices:\n",
        "        n += 1\n",
        "        delta = price - mean\n",
        "        mean += delta / n\n",
        "        M2 += delta * (price - mean)\n",
        "    return n, mean, M2"
      ],
      "metadata": {
        "id": "PvKE9lGYwR5S"
      },
      "execution_count": 83,
      "outputs": []
    },
    {
      "cell_type": "code",
      "source": [
        "%%time\n",
        "n, mean, M2 = reduce(reducer,mapper(Path('new-york-city-airbnb-open-data/AB_NYC_2019.csv')))\n",
        "print(mean, (M2 / n) ** (1/2))"
      ],
      "metadata": {
        "colab": {
          "base_uri": "https://localhost:8080/"
        },
        "id": "Yrrry4T_yDWj",
        "outputId": "937816cf-00db-45f2-f6c8-52bcc0352cd0"
      },
      "execution_count": 84,
      "outputs": [
        {
          "output_type": "stream",
          "name": "stdout",
          "text": [
            "152.72068718682823 240.15171391941672\n",
            "CPU times: user 290 ms, sys: 892 µs, total: 291 ms\n",
            "Wall time: 303 ms\n"
          ]
        }
      ]
    }
  ]
}